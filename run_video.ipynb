{
 "cells": [
  {
   "cell_type": "code",
   "execution_count": 1,
   "outputs": [
    {
     "name": "stdout",
     "output_type": "stream",
     "text": [
      "env: RSN_HOME=./\n",
      "env: PYTHONPATH=/env/python:./\n",
      "mkdir: .//model_logs: File exists\r\n"
     ]
    }
   ],
   "source": [
    "from turtle import color\n",
    "%env RSN_HOME=./\n",
    "%env PYTHONPATH=/env/python:./\n",
    "!mkdir $RSN_HOME/model_logs"
   ],
   "metadata": {
    "collapsed": false
   }
  },
  {
   "cell_type": "code",
   "execution_count": 2,
   "metadata": {
    "collapsed": true
   },
   "outputs": [],
   "source": [
    "import os\n",
    "import numpy as np\n",
    "import cv2\n",
    "import glob\n",
    "import torchvision.transforms as transforms\n",
    "from tqdm import tqdm_notebook\n",
    "\n",
    "import torch"
   ]
  },
  {
   "cell_type": "code",
   "execution_count": 3,
   "outputs": [],
   "source": [
    "from config import cfg\n",
    "from network import RSN\n",
    "\n",
    "from lib.utils.transforms import flip_back\n",
    "\n",
    "import matplotlib as mplt\n",
    "import matplotlib.pyplot as plt\n",
    "import matplotlib.image as mpimg\n",
    "\n",
    "from natsort import natsorted"
   ],
   "metadata": {
    "collapsed": false
   }
  },
  {
   "cell_type": "code",
   "execution_count": 4,
   "outputs": [],
   "source": [
    "data_txt  = np.loadtxt('./test_images.txt', dtype='str')\n",
    "# cfg\n",
    "normalize = transforms.Normalize(mean=cfg.INPUT.MEANS, std=cfg.INPUT.STDS)\n",
    "transform = transforms.Compose([transforms.ToTensor(), normalize])\n",
    "color_rgb = False\n",
    "border = 10\n",
    "kernel = 5\n",
    "shifts = [0.25]\n",
    "model_file = \"trained_model.pth\" #os.path.join('./4XRSN18.coco', \"iter-{}.pth\".format(0))\n",
    "pairs = [[16, 14], [14, 12], [17, 15], [15, 13], [12, 13], [6, 12],\n",
    "         [7, 13], [6, 7], [6, 8], [7, 9], [8, 10], [9, 11], [2, 3],\n",
    "         [1, 2], [1, 3], [2, 4], [3, 5], [4, 6], [5, 7]]\n",
    "color = np.random.randint(0, 256, (cfg.DATASET.KEYPOINT.NUM, 3)).tolist()"
   ],
   "metadata": {
    "collapsed": false
   }
  },
  {
   "cell_type": "code",
   "execution_count": 5,
   "outputs": [
    {
     "data": {
      "text/plain": "RSN(\n  (top): ResNet_top(\n    (conv): conv_bn_relu(\n      (conv): Conv2d(3, 64, kernel_size=(7, 7), stride=(2, 2), padding=(3, 3))\n      (bn): BatchNorm2d(64, eps=1e-05, momentum=0.1, affine=True, track_running_stats=True)\n      (relu): ReLU(inplace=True)\n    )\n    (maxpool): MaxPool2d(kernel_size=3, stride=2, padding=1, dilation=1, ceil_mode=False)\n  )\n  (stage0): Single_stage_module(\n    (downsample): ResNet_downsample_module(\n      (layer1): Sequential(\n        (0): Bottleneck(\n          (conv_bn_relu1): conv_bn_relu(\n            (conv): Conv2d(64, 104, kernel_size=(1, 1), stride=(1, 1))\n            (bn): BatchNorm2d(104, eps=1e-05, momentum=0.1, affine=True, track_running_stats=True)\n            (relu): ReLU(inplace=True)\n          )\n          (conv_bn_relu2_1_1): conv_bn_relu(\n            (conv): Conv2d(26, 26, kernel_size=(3, 3), stride=(1, 1), padding=(1, 1))\n            (bn): BatchNorm2d(26, eps=1e-05, momentum=0.1, affine=True, track_running_stats=True)\n            (relu): ReLU(inplace=True)\n          )\n          (conv_bn_relu2_2_1): conv_bn_relu(\n            (conv): Conv2d(26, 26, kernel_size=(3, 3), stride=(1, 1), padding=(1, 1))\n            (bn): BatchNorm2d(26, eps=1e-05, momentum=0.1, affine=True, track_running_stats=True)\n            (relu): ReLU(inplace=True)\n          )\n          (conv_bn_relu2_2_2): conv_bn_relu(\n            (conv): Conv2d(26, 26, kernel_size=(3, 3), stride=(1, 1), padding=(1, 1))\n            (bn): BatchNorm2d(26, eps=1e-05, momentum=0.1, affine=True, track_running_stats=True)\n            (relu): ReLU(inplace=True)\n          )\n          (conv_bn_relu2_3_1): conv_bn_relu(\n            (conv): Conv2d(26, 26, kernel_size=(3, 3), stride=(1, 1), padding=(1, 1))\n            (bn): BatchNorm2d(26, eps=1e-05, momentum=0.1, affine=True, track_running_stats=True)\n            (relu): ReLU(inplace=True)\n          )\n          (conv_bn_relu2_3_2): conv_bn_relu(\n            (conv): Conv2d(26, 26, kernel_size=(3, 3), stride=(1, 1), padding=(1, 1))\n            (bn): BatchNorm2d(26, eps=1e-05, momentum=0.1, affine=True, track_running_stats=True)\n            (relu): ReLU(inplace=True)\n          )\n          (conv_bn_relu2_3_3): conv_bn_relu(\n            (conv): Conv2d(26, 26, kernel_size=(3, 3), stride=(1, 1), padding=(1, 1))\n            (bn): BatchNorm2d(26, eps=1e-05, momentum=0.1, affine=True, track_running_stats=True)\n            (relu): ReLU(inplace=True)\n          )\n          (conv_bn_relu2_4_1): conv_bn_relu(\n            (conv): Conv2d(26, 26, kernel_size=(3, 3), stride=(1, 1), padding=(1, 1))\n            (bn): BatchNorm2d(26, eps=1e-05, momentum=0.1, affine=True, track_running_stats=True)\n            (relu): ReLU(inplace=True)\n          )\n          (conv_bn_relu2_4_2): conv_bn_relu(\n            (conv): Conv2d(26, 26, kernel_size=(3, 3), stride=(1, 1), padding=(1, 1))\n            (bn): BatchNorm2d(26, eps=1e-05, momentum=0.1, affine=True, track_running_stats=True)\n            (relu): ReLU(inplace=True)\n          )\n          (conv_bn_relu2_4_3): conv_bn_relu(\n            (conv): Conv2d(26, 26, kernel_size=(3, 3), stride=(1, 1), padding=(1, 1))\n            (bn): BatchNorm2d(26, eps=1e-05, momentum=0.1, affine=True, track_running_stats=True)\n            (relu): ReLU(inplace=True)\n          )\n          (conv_bn_relu2_4_4): conv_bn_relu(\n            (conv): Conv2d(26, 26, kernel_size=(3, 3), stride=(1, 1), padding=(1, 1))\n            (bn): BatchNorm2d(26, eps=1e-05, momentum=0.1, affine=True, track_running_stats=True)\n            (relu): ReLU(inplace=True)\n          )\n          (conv_bn_relu3): conv_bn_relu(\n            (conv): Conv2d(104, 64, kernel_size=(1, 1), stride=(1, 1))\n            (bn): BatchNorm2d(64, eps=1e-05, momentum=0.1, affine=True, track_running_stats=True)\n            (relu): ReLU(inplace=True)\n          )\n          (relu): ReLU(inplace=True)\n        )\n        (1): Bottleneck(\n          (conv_bn_relu1): conv_bn_relu(\n            (conv): Conv2d(64, 104, kernel_size=(1, 1), stride=(1, 1))\n            (bn): BatchNorm2d(104, eps=1e-05, momentum=0.1, affine=True, track_running_stats=True)\n            (relu): ReLU(inplace=True)\n          )\n          (conv_bn_relu2_1_1): conv_bn_relu(\n            (conv): Conv2d(26, 26, kernel_size=(3, 3), stride=(1, 1), padding=(1, 1))\n            (bn): BatchNorm2d(26, eps=1e-05, momentum=0.1, affine=True, track_running_stats=True)\n            (relu): ReLU(inplace=True)\n          )\n          (conv_bn_relu2_2_1): conv_bn_relu(\n            (conv): Conv2d(26, 26, kernel_size=(3, 3), stride=(1, 1), padding=(1, 1))\n            (bn): BatchNorm2d(26, eps=1e-05, momentum=0.1, affine=True, track_running_stats=True)\n            (relu): ReLU(inplace=True)\n          )\n          (conv_bn_relu2_2_2): conv_bn_relu(\n            (conv): Conv2d(26, 26, kernel_size=(3, 3), stride=(1, 1), padding=(1, 1))\n            (bn): BatchNorm2d(26, eps=1e-05, momentum=0.1, affine=True, track_running_stats=True)\n            (relu): ReLU(inplace=True)\n          )\n          (conv_bn_relu2_3_1): conv_bn_relu(\n            (conv): Conv2d(26, 26, kernel_size=(3, 3), stride=(1, 1), padding=(1, 1))\n            (bn): BatchNorm2d(26, eps=1e-05, momentum=0.1, affine=True, track_running_stats=True)\n            (relu): ReLU(inplace=True)\n          )\n          (conv_bn_relu2_3_2): conv_bn_relu(\n            (conv): Conv2d(26, 26, kernel_size=(3, 3), stride=(1, 1), padding=(1, 1))\n            (bn): BatchNorm2d(26, eps=1e-05, momentum=0.1, affine=True, track_running_stats=True)\n            (relu): ReLU(inplace=True)\n          )\n          (conv_bn_relu2_3_3): conv_bn_relu(\n            (conv): Conv2d(26, 26, kernel_size=(3, 3), stride=(1, 1), padding=(1, 1))\n            (bn): BatchNorm2d(26, eps=1e-05, momentum=0.1, affine=True, track_running_stats=True)\n            (relu): ReLU(inplace=True)\n          )\n          (conv_bn_relu2_4_1): conv_bn_relu(\n            (conv): Conv2d(26, 26, kernel_size=(3, 3), stride=(1, 1), padding=(1, 1))\n            (bn): BatchNorm2d(26, eps=1e-05, momentum=0.1, affine=True, track_running_stats=True)\n            (relu): ReLU(inplace=True)\n          )\n          (conv_bn_relu2_4_2): conv_bn_relu(\n            (conv): Conv2d(26, 26, kernel_size=(3, 3), stride=(1, 1), padding=(1, 1))\n            (bn): BatchNorm2d(26, eps=1e-05, momentum=0.1, affine=True, track_running_stats=True)\n            (relu): ReLU(inplace=True)\n          )\n          (conv_bn_relu2_4_3): conv_bn_relu(\n            (conv): Conv2d(26, 26, kernel_size=(3, 3), stride=(1, 1), padding=(1, 1))\n            (bn): BatchNorm2d(26, eps=1e-05, momentum=0.1, affine=True, track_running_stats=True)\n            (relu): ReLU(inplace=True)\n          )\n          (conv_bn_relu2_4_4): conv_bn_relu(\n            (conv): Conv2d(26, 26, kernel_size=(3, 3), stride=(1, 1), padding=(1, 1))\n            (bn): BatchNorm2d(26, eps=1e-05, momentum=0.1, affine=True, track_running_stats=True)\n            (relu): ReLU(inplace=True)\n          )\n          (conv_bn_relu3): conv_bn_relu(\n            (conv): Conv2d(104, 64, kernel_size=(1, 1), stride=(1, 1))\n            (bn): BatchNorm2d(64, eps=1e-05, momentum=0.1, affine=True, track_running_stats=True)\n            (relu): ReLU(inplace=True)\n          )\n          (relu): ReLU(inplace=True)\n        )\n      )\n      (layer2): Sequential(\n        (0): Bottleneck(\n          (conv_bn_relu1): conv_bn_relu(\n            (conv): Conv2d(64, 104, kernel_size=(1, 1), stride=(2, 2))\n            (bn): BatchNorm2d(104, eps=1e-05, momentum=0.1, affine=True, track_running_stats=True)\n            (relu): ReLU(inplace=True)\n          )\n          (conv_bn_relu2_1_1): conv_bn_relu(\n            (conv): Conv2d(26, 26, kernel_size=(3, 3), stride=(1, 1), padding=(1, 1))\n            (bn): BatchNorm2d(26, eps=1e-05, momentum=0.1, affine=True, track_running_stats=True)\n            (relu): ReLU(inplace=True)\n          )\n          (conv_bn_relu2_2_1): conv_bn_relu(\n            (conv): Conv2d(26, 26, kernel_size=(3, 3), stride=(1, 1), padding=(1, 1))\n            (bn): BatchNorm2d(26, eps=1e-05, momentum=0.1, affine=True, track_running_stats=True)\n            (relu): ReLU(inplace=True)\n          )\n          (conv_bn_relu2_2_2): conv_bn_relu(\n            (conv): Conv2d(26, 26, kernel_size=(3, 3), stride=(1, 1), padding=(1, 1))\n            (bn): BatchNorm2d(26, eps=1e-05, momentum=0.1, affine=True, track_running_stats=True)\n            (relu): ReLU(inplace=True)\n          )\n          (conv_bn_relu2_3_1): conv_bn_relu(\n            (conv): Conv2d(26, 26, kernel_size=(3, 3), stride=(1, 1), padding=(1, 1))\n            (bn): BatchNorm2d(26, eps=1e-05, momentum=0.1, affine=True, track_running_stats=True)\n            (relu): ReLU(inplace=True)\n          )\n          (conv_bn_relu2_3_2): conv_bn_relu(\n            (conv): Conv2d(26, 26, kernel_size=(3, 3), stride=(1, 1), padding=(1, 1))\n            (bn): BatchNorm2d(26, eps=1e-05, momentum=0.1, affine=True, track_running_stats=True)\n            (relu): ReLU(inplace=True)\n          )\n          (conv_bn_relu2_3_3): conv_bn_relu(\n            (conv): Conv2d(26, 26, kernel_size=(3, 3), stride=(1, 1), padding=(1, 1))\n            (bn): BatchNorm2d(26, eps=1e-05, momentum=0.1, affine=True, track_running_stats=True)\n            (relu): ReLU(inplace=True)\n          )\n          (conv_bn_relu2_4_1): conv_bn_relu(\n            (conv): Conv2d(26, 26, kernel_size=(3, 3), stride=(1, 1), padding=(1, 1))\n            (bn): BatchNorm2d(26, eps=1e-05, momentum=0.1, affine=True, track_running_stats=True)\n            (relu): ReLU(inplace=True)\n          )\n          (conv_bn_relu2_4_2): conv_bn_relu(\n            (conv): Conv2d(26, 26, kernel_size=(3, 3), stride=(1, 1), padding=(1, 1))\n            (bn): BatchNorm2d(26, eps=1e-05, momentum=0.1, affine=True, track_running_stats=True)\n            (relu): ReLU(inplace=True)\n          )\n          (conv_bn_relu2_4_3): conv_bn_relu(\n            (conv): Conv2d(26, 26, kernel_size=(3, 3), stride=(1, 1), padding=(1, 1))\n            (bn): BatchNorm2d(26, eps=1e-05, momentum=0.1, affine=True, track_running_stats=True)\n            (relu): ReLU(inplace=True)\n          )\n          (conv_bn_relu2_4_4): conv_bn_relu(\n            (conv): Conv2d(26, 26, kernel_size=(3, 3), stride=(1, 1), padding=(1, 1))\n            (bn): BatchNorm2d(26, eps=1e-05, momentum=0.1, affine=True, track_running_stats=True)\n            (relu): ReLU(inplace=True)\n          )\n          (conv_bn_relu3): conv_bn_relu(\n            (conv): Conv2d(104, 128, kernel_size=(1, 1), stride=(1, 1))\n            (bn): BatchNorm2d(128, eps=1e-05, momentum=0.1, affine=True, track_running_stats=True)\n            (relu): ReLU(inplace=True)\n          )\n          (relu): ReLU(inplace=True)\n          (downsample): conv_bn_relu(\n            (conv): Conv2d(64, 128, kernel_size=(1, 1), stride=(2, 2))\n            (bn): BatchNorm2d(128, eps=1e-05, momentum=0.1, affine=True, track_running_stats=True)\n            (relu): ReLU(inplace=True)\n          )\n        )\n        (1): Bottleneck(\n          (conv_bn_relu1): conv_bn_relu(\n            (conv): Conv2d(128, 208, kernel_size=(1, 1), stride=(1, 1))\n            (bn): BatchNorm2d(208, eps=1e-05, momentum=0.1, affine=True, track_running_stats=True)\n            (relu): ReLU(inplace=True)\n          )\n          (conv_bn_relu2_1_1): conv_bn_relu(\n            (conv): Conv2d(52, 52, kernel_size=(3, 3), stride=(1, 1), padding=(1, 1))\n            (bn): BatchNorm2d(52, eps=1e-05, momentum=0.1, affine=True, track_running_stats=True)\n            (relu): ReLU(inplace=True)\n          )\n          (conv_bn_relu2_2_1): conv_bn_relu(\n            (conv): Conv2d(52, 52, kernel_size=(3, 3), stride=(1, 1), padding=(1, 1))\n            (bn): BatchNorm2d(52, eps=1e-05, momentum=0.1, affine=True, track_running_stats=True)\n            (relu): ReLU(inplace=True)\n          )\n          (conv_bn_relu2_2_2): conv_bn_relu(\n            (conv): Conv2d(52, 52, kernel_size=(3, 3), stride=(1, 1), padding=(1, 1))\n            (bn): BatchNorm2d(52, eps=1e-05, momentum=0.1, affine=True, track_running_stats=True)\n            (relu): ReLU(inplace=True)\n          )\n          (conv_bn_relu2_3_1): conv_bn_relu(\n            (conv): Conv2d(52, 52, kernel_size=(3, 3), stride=(1, 1), padding=(1, 1))\n            (bn): BatchNorm2d(52, eps=1e-05, momentum=0.1, affine=True, track_running_stats=True)\n            (relu): ReLU(inplace=True)\n          )\n          (conv_bn_relu2_3_2): conv_bn_relu(\n            (conv): Conv2d(52, 52, kernel_size=(3, 3), stride=(1, 1), padding=(1, 1))\n            (bn): BatchNorm2d(52, eps=1e-05, momentum=0.1, affine=True, track_running_stats=True)\n            (relu): ReLU(inplace=True)\n          )\n          (conv_bn_relu2_3_3): conv_bn_relu(\n            (conv): Conv2d(52, 52, kernel_size=(3, 3), stride=(1, 1), padding=(1, 1))\n            (bn): BatchNorm2d(52, eps=1e-05, momentum=0.1, affine=True, track_running_stats=True)\n            (relu): ReLU(inplace=True)\n          )\n          (conv_bn_relu2_4_1): conv_bn_relu(\n            (conv): Conv2d(52, 52, kernel_size=(3, 3), stride=(1, 1), padding=(1, 1))\n            (bn): BatchNorm2d(52, eps=1e-05, momentum=0.1, affine=True, track_running_stats=True)\n            (relu): ReLU(inplace=True)\n          )\n          (conv_bn_relu2_4_2): conv_bn_relu(\n            (conv): Conv2d(52, 52, kernel_size=(3, 3), stride=(1, 1), padding=(1, 1))\n            (bn): BatchNorm2d(52, eps=1e-05, momentum=0.1, affine=True, track_running_stats=True)\n            (relu): ReLU(inplace=True)\n          )\n          (conv_bn_relu2_4_3): conv_bn_relu(\n            (conv): Conv2d(52, 52, kernel_size=(3, 3), stride=(1, 1), padding=(1, 1))\n            (bn): BatchNorm2d(52, eps=1e-05, momentum=0.1, affine=True, track_running_stats=True)\n            (relu): ReLU(inplace=True)\n          )\n          (conv_bn_relu2_4_4): conv_bn_relu(\n            (conv): Conv2d(52, 52, kernel_size=(3, 3), stride=(1, 1), padding=(1, 1))\n            (bn): BatchNorm2d(52, eps=1e-05, momentum=0.1, affine=True, track_running_stats=True)\n            (relu): ReLU(inplace=True)\n          )\n          (conv_bn_relu3): conv_bn_relu(\n            (conv): Conv2d(208, 128, kernel_size=(1, 1), stride=(1, 1))\n            (bn): BatchNorm2d(128, eps=1e-05, momentum=0.1, affine=True, track_running_stats=True)\n            (relu): ReLU(inplace=True)\n          )\n          (relu): ReLU(inplace=True)\n        )\n      )\n      (layer3): Sequential(\n        (0): Bottleneck(\n          (conv_bn_relu1): conv_bn_relu(\n            (conv): Conv2d(128, 208, kernel_size=(1, 1), stride=(2, 2))\n            (bn): BatchNorm2d(208, eps=1e-05, momentum=0.1, affine=True, track_running_stats=True)\n            (relu): ReLU(inplace=True)\n          )\n          (conv_bn_relu2_1_1): conv_bn_relu(\n            (conv): Conv2d(52, 52, kernel_size=(3, 3), stride=(1, 1), padding=(1, 1))\n            (bn): BatchNorm2d(52, eps=1e-05, momentum=0.1, affine=True, track_running_stats=True)\n            (relu): ReLU(inplace=True)\n          )\n          (conv_bn_relu2_2_1): conv_bn_relu(\n            (conv): Conv2d(52, 52, kernel_size=(3, 3), stride=(1, 1), padding=(1, 1))\n            (bn): BatchNorm2d(52, eps=1e-05, momentum=0.1, affine=True, track_running_stats=True)\n            (relu): ReLU(inplace=True)\n          )\n          (conv_bn_relu2_2_2): conv_bn_relu(\n            (conv): Conv2d(52, 52, kernel_size=(3, 3), stride=(1, 1), padding=(1, 1))\n            (bn): BatchNorm2d(52, eps=1e-05, momentum=0.1, affine=True, track_running_stats=True)\n            (relu): ReLU(inplace=True)\n          )\n          (conv_bn_relu2_3_1): conv_bn_relu(\n            (conv): Conv2d(52, 52, kernel_size=(3, 3), stride=(1, 1), padding=(1, 1))\n            (bn): BatchNorm2d(52, eps=1e-05, momentum=0.1, affine=True, track_running_stats=True)\n            (relu): ReLU(inplace=True)\n          )\n          (conv_bn_relu2_3_2): conv_bn_relu(\n            (conv): Conv2d(52, 52, kernel_size=(3, 3), stride=(1, 1), padding=(1, 1))\n            (bn): BatchNorm2d(52, eps=1e-05, momentum=0.1, affine=True, track_running_stats=True)\n            (relu): ReLU(inplace=True)\n          )\n          (conv_bn_relu2_3_3): conv_bn_relu(\n            (conv): Conv2d(52, 52, kernel_size=(3, 3), stride=(1, 1), padding=(1, 1))\n            (bn): BatchNorm2d(52, eps=1e-05, momentum=0.1, affine=True, track_running_stats=True)\n            (relu): ReLU(inplace=True)\n          )\n          (conv_bn_relu2_4_1): conv_bn_relu(\n            (conv): Conv2d(52, 52, kernel_size=(3, 3), stride=(1, 1), padding=(1, 1))\n            (bn): BatchNorm2d(52, eps=1e-05, momentum=0.1, affine=True, track_running_stats=True)\n            (relu): ReLU(inplace=True)\n          )\n          (conv_bn_relu2_4_2): conv_bn_relu(\n            (conv): Conv2d(52, 52, kernel_size=(3, 3), stride=(1, 1), padding=(1, 1))\n            (bn): BatchNorm2d(52, eps=1e-05, momentum=0.1, affine=True, track_running_stats=True)\n            (relu): ReLU(inplace=True)\n          )\n          (conv_bn_relu2_4_3): conv_bn_relu(\n            (conv): Conv2d(52, 52, kernel_size=(3, 3), stride=(1, 1), padding=(1, 1))\n            (bn): BatchNorm2d(52, eps=1e-05, momentum=0.1, affine=True, track_running_stats=True)\n            (relu): ReLU(inplace=True)\n          )\n          (conv_bn_relu2_4_4): conv_bn_relu(\n            (conv): Conv2d(52, 52, kernel_size=(3, 3), stride=(1, 1), padding=(1, 1))\n            (bn): BatchNorm2d(52, eps=1e-05, momentum=0.1, affine=True, track_running_stats=True)\n            (relu): ReLU(inplace=True)\n          )\n          (conv_bn_relu3): conv_bn_relu(\n            (conv): Conv2d(208, 256, kernel_size=(1, 1), stride=(1, 1))\n            (bn): BatchNorm2d(256, eps=1e-05, momentum=0.1, affine=True, track_running_stats=True)\n            (relu): ReLU(inplace=True)\n          )\n          (relu): ReLU(inplace=True)\n          (downsample): conv_bn_relu(\n            (conv): Conv2d(128, 256, kernel_size=(1, 1), stride=(2, 2))\n            (bn): BatchNorm2d(256, eps=1e-05, momentum=0.1, affine=True, track_running_stats=True)\n            (relu): ReLU(inplace=True)\n          )\n        )\n        (1): Bottleneck(\n          (conv_bn_relu1): conv_bn_relu(\n            (conv): Conv2d(256, 416, kernel_size=(1, 1), stride=(1, 1))\n            (bn): BatchNorm2d(416, eps=1e-05, momentum=0.1, affine=True, track_running_stats=True)\n            (relu): ReLU(inplace=True)\n          )\n          (conv_bn_relu2_1_1): conv_bn_relu(\n            (conv): Conv2d(104, 104, kernel_size=(3, 3), stride=(1, 1), padding=(1, 1))\n            (bn): BatchNorm2d(104, eps=1e-05, momentum=0.1, affine=True, track_running_stats=True)\n            (relu): ReLU(inplace=True)\n          )\n          (conv_bn_relu2_2_1): conv_bn_relu(\n            (conv): Conv2d(104, 104, kernel_size=(3, 3), stride=(1, 1), padding=(1, 1))\n            (bn): BatchNorm2d(104, eps=1e-05, momentum=0.1, affine=True, track_running_stats=True)\n            (relu): ReLU(inplace=True)\n          )\n          (conv_bn_relu2_2_2): conv_bn_relu(\n            (conv): Conv2d(104, 104, kernel_size=(3, 3), stride=(1, 1), padding=(1, 1))\n            (bn): BatchNorm2d(104, eps=1e-05, momentum=0.1, affine=True, track_running_stats=True)\n            (relu): ReLU(inplace=True)\n          )\n          (conv_bn_relu2_3_1): conv_bn_relu(\n            (conv): Conv2d(104, 104, kernel_size=(3, 3), stride=(1, 1), padding=(1, 1))\n            (bn): BatchNorm2d(104, eps=1e-05, momentum=0.1, affine=True, track_running_stats=True)\n            (relu): ReLU(inplace=True)\n          )\n          (conv_bn_relu2_3_2): conv_bn_relu(\n            (conv): Conv2d(104, 104, kernel_size=(3, 3), stride=(1, 1), padding=(1, 1))\n            (bn): BatchNorm2d(104, eps=1e-05, momentum=0.1, affine=True, track_running_stats=True)\n            (relu): ReLU(inplace=True)\n          )\n          (conv_bn_relu2_3_3): conv_bn_relu(\n            (conv): Conv2d(104, 104, kernel_size=(3, 3), stride=(1, 1), padding=(1, 1))\n            (bn): BatchNorm2d(104, eps=1e-05, momentum=0.1, affine=True, track_running_stats=True)\n            (relu): ReLU(inplace=True)\n          )\n          (conv_bn_relu2_4_1): conv_bn_relu(\n            (conv): Conv2d(104, 104, kernel_size=(3, 3), stride=(1, 1), padding=(1, 1))\n            (bn): BatchNorm2d(104, eps=1e-05, momentum=0.1, affine=True, track_running_stats=True)\n            (relu): ReLU(inplace=True)\n          )\n          (conv_bn_relu2_4_2): conv_bn_relu(\n            (conv): Conv2d(104, 104, kernel_size=(3, 3), stride=(1, 1), padding=(1, 1))\n            (bn): BatchNorm2d(104, eps=1e-05, momentum=0.1, affine=True, track_running_stats=True)\n            (relu): ReLU(inplace=True)\n          )\n          (conv_bn_relu2_4_3): conv_bn_relu(\n            (conv): Conv2d(104, 104, kernel_size=(3, 3), stride=(1, 1), padding=(1, 1))\n            (bn): BatchNorm2d(104, eps=1e-05, momentum=0.1, affine=True, track_running_stats=True)\n            (relu): ReLU(inplace=True)\n          )\n          (conv_bn_relu2_4_4): conv_bn_relu(\n            (conv): Conv2d(104, 104, kernel_size=(3, 3), stride=(1, 1), padding=(1, 1))\n            (bn): BatchNorm2d(104, eps=1e-05, momentum=0.1, affine=True, track_running_stats=True)\n            (relu): ReLU(inplace=True)\n          )\n          (conv_bn_relu3): conv_bn_relu(\n            (conv): Conv2d(416, 256, kernel_size=(1, 1), stride=(1, 1))\n            (bn): BatchNorm2d(256, eps=1e-05, momentum=0.1, affine=True, track_running_stats=True)\n            (relu): ReLU(inplace=True)\n          )\n          (relu): ReLU(inplace=True)\n        )\n      )\n      (layer4): Sequential(\n        (0): Bottleneck(\n          (conv_bn_relu1): conv_bn_relu(\n            (conv): Conv2d(256, 416, kernel_size=(1, 1), stride=(2, 2))\n            (bn): BatchNorm2d(416, eps=1e-05, momentum=0.1, affine=True, track_running_stats=True)\n            (relu): ReLU(inplace=True)\n          )\n          (conv_bn_relu2_1_1): conv_bn_relu(\n            (conv): Conv2d(104, 104, kernel_size=(3, 3), stride=(1, 1), padding=(1, 1))\n            (bn): BatchNorm2d(104, eps=1e-05, momentum=0.1, affine=True, track_running_stats=True)\n            (relu): ReLU(inplace=True)\n          )\n          (conv_bn_relu2_2_1): conv_bn_relu(\n            (conv): Conv2d(104, 104, kernel_size=(3, 3), stride=(1, 1), padding=(1, 1))\n            (bn): BatchNorm2d(104, eps=1e-05, momentum=0.1, affine=True, track_running_stats=True)\n            (relu): ReLU(inplace=True)\n          )\n          (conv_bn_relu2_2_2): conv_bn_relu(\n            (conv): Conv2d(104, 104, kernel_size=(3, 3), stride=(1, 1), padding=(1, 1))\n            (bn): BatchNorm2d(104, eps=1e-05, momentum=0.1, affine=True, track_running_stats=True)\n            (relu): ReLU(inplace=True)\n          )\n          (conv_bn_relu2_3_1): conv_bn_relu(\n            (conv): Conv2d(104, 104, kernel_size=(3, 3), stride=(1, 1), padding=(1, 1))\n            (bn): BatchNorm2d(104, eps=1e-05, momentum=0.1, affine=True, track_running_stats=True)\n            (relu): ReLU(inplace=True)\n          )\n          (conv_bn_relu2_3_2): conv_bn_relu(\n            (conv): Conv2d(104, 104, kernel_size=(3, 3), stride=(1, 1), padding=(1, 1))\n            (bn): BatchNorm2d(104, eps=1e-05, momentum=0.1, affine=True, track_running_stats=True)\n            (relu): ReLU(inplace=True)\n          )\n          (conv_bn_relu2_3_3): conv_bn_relu(\n            (conv): Conv2d(104, 104, kernel_size=(3, 3), stride=(1, 1), padding=(1, 1))\n            (bn): BatchNorm2d(104, eps=1e-05, momentum=0.1, affine=True, track_running_stats=True)\n            (relu): ReLU(inplace=True)\n          )\n          (conv_bn_relu2_4_1): conv_bn_relu(\n            (conv): Conv2d(104, 104, kernel_size=(3, 3), stride=(1, 1), padding=(1, 1))\n            (bn): BatchNorm2d(104, eps=1e-05, momentum=0.1, affine=True, track_running_stats=True)\n            (relu): ReLU(inplace=True)\n          )\n          (conv_bn_relu2_4_2): conv_bn_relu(\n            (conv): Conv2d(104, 104, kernel_size=(3, 3), stride=(1, 1), padding=(1, 1))\n            (bn): BatchNorm2d(104, eps=1e-05, momentum=0.1, affine=True, track_running_stats=True)\n            (relu): ReLU(inplace=True)\n          )\n          (conv_bn_relu2_4_3): conv_bn_relu(\n            (conv): Conv2d(104, 104, kernel_size=(3, 3), stride=(1, 1), padding=(1, 1))\n            (bn): BatchNorm2d(104, eps=1e-05, momentum=0.1, affine=True, track_running_stats=True)\n            (relu): ReLU(inplace=True)\n          )\n          (conv_bn_relu2_4_4): conv_bn_relu(\n            (conv): Conv2d(104, 104, kernel_size=(3, 3), stride=(1, 1), padding=(1, 1))\n            (bn): BatchNorm2d(104, eps=1e-05, momentum=0.1, affine=True, track_running_stats=True)\n            (relu): ReLU(inplace=True)\n          )\n          (conv_bn_relu3): conv_bn_relu(\n            (conv): Conv2d(416, 512, kernel_size=(1, 1), stride=(1, 1))\n            (bn): BatchNorm2d(512, eps=1e-05, momentum=0.1, affine=True, track_running_stats=True)\n            (relu): ReLU(inplace=True)\n          )\n          (relu): ReLU(inplace=True)\n          (downsample): conv_bn_relu(\n            (conv): Conv2d(256, 512, kernel_size=(1, 1), stride=(2, 2))\n            (bn): BatchNorm2d(512, eps=1e-05, momentum=0.1, affine=True, track_running_stats=True)\n            (relu): ReLU(inplace=True)\n          )\n        )\n        (1): Bottleneck(\n          (conv_bn_relu1): conv_bn_relu(\n            (conv): Conv2d(512, 832, kernel_size=(1, 1), stride=(1, 1))\n            (bn): BatchNorm2d(832, eps=1e-05, momentum=0.1, affine=True, track_running_stats=True)\n            (relu): ReLU(inplace=True)\n          )\n          (conv_bn_relu2_1_1): conv_bn_relu(\n            (conv): Conv2d(208, 208, kernel_size=(3, 3), stride=(1, 1), padding=(1, 1))\n            (bn): BatchNorm2d(208, eps=1e-05, momentum=0.1, affine=True, track_running_stats=True)\n            (relu): ReLU(inplace=True)\n          )\n          (conv_bn_relu2_2_1): conv_bn_relu(\n            (conv): Conv2d(208, 208, kernel_size=(3, 3), stride=(1, 1), padding=(1, 1))\n            (bn): BatchNorm2d(208, eps=1e-05, momentum=0.1, affine=True, track_running_stats=True)\n            (relu): ReLU(inplace=True)\n          )\n          (conv_bn_relu2_2_2): conv_bn_relu(\n            (conv): Conv2d(208, 208, kernel_size=(3, 3), stride=(1, 1), padding=(1, 1))\n            (bn): BatchNorm2d(208, eps=1e-05, momentum=0.1, affine=True, track_running_stats=True)\n            (relu): ReLU(inplace=True)\n          )\n          (conv_bn_relu2_3_1): conv_bn_relu(\n            (conv): Conv2d(208, 208, kernel_size=(3, 3), stride=(1, 1), padding=(1, 1))\n            (bn): BatchNorm2d(208, eps=1e-05, momentum=0.1, affine=True, track_running_stats=True)\n            (relu): ReLU(inplace=True)\n          )\n          (conv_bn_relu2_3_2): conv_bn_relu(\n            (conv): Conv2d(208, 208, kernel_size=(3, 3), stride=(1, 1), padding=(1, 1))\n            (bn): BatchNorm2d(208, eps=1e-05, momentum=0.1, affine=True, track_running_stats=True)\n            (relu): ReLU(inplace=True)\n          )\n          (conv_bn_relu2_3_3): conv_bn_relu(\n            (conv): Conv2d(208, 208, kernel_size=(3, 3), stride=(1, 1), padding=(1, 1))\n            (bn): BatchNorm2d(208, eps=1e-05, momentum=0.1, affine=True, track_running_stats=True)\n            (relu): ReLU(inplace=True)\n          )\n          (conv_bn_relu2_4_1): conv_bn_relu(\n            (conv): Conv2d(208, 208, kernel_size=(3, 3), stride=(1, 1), padding=(1, 1))\n            (bn): BatchNorm2d(208, eps=1e-05, momentum=0.1, affine=True, track_running_stats=True)\n            (relu): ReLU(inplace=True)\n          )\n          (conv_bn_relu2_4_2): conv_bn_relu(\n            (conv): Conv2d(208, 208, kernel_size=(3, 3), stride=(1, 1), padding=(1, 1))\n            (bn): BatchNorm2d(208, eps=1e-05, momentum=0.1, affine=True, track_running_stats=True)\n            (relu): ReLU(inplace=True)\n          )\n          (conv_bn_relu2_4_3): conv_bn_relu(\n            (conv): Conv2d(208, 208, kernel_size=(3, 3), stride=(1, 1), padding=(1, 1))\n            (bn): BatchNorm2d(208, eps=1e-05, momentum=0.1, affine=True, track_running_stats=True)\n            (relu): ReLU(inplace=True)\n          )\n          (conv_bn_relu2_4_4): conv_bn_relu(\n            (conv): Conv2d(208, 208, kernel_size=(3, 3), stride=(1, 1), padding=(1, 1))\n            (bn): BatchNorm2d(208, eps=1e-05, momentum=0.1, affine=True, track_running_stats=True)\n            (relu): ReLU(inplace=True)\n          )\n          (conv_bn_relu3): conv_bn_relu(\n            (conv): Conv2d(832, 512, kernel_size=(1, 1), stride=(1, 1))\n            (bn): BatchNorm2d(512, eps=1e-05, momentum=0.1, affine=True, track_running_stats=True)\n            (relu): ReLU(inplace=True)\n          )\n          (relu): ReLU(inplace=True)\n        )\n      )\n    )\n    (upsample): Upsample_module(\n      (up1): Upsample_unit(\n        (u_skip): conv_bn_relu(\n          (conv): Conv2d(512, 256, kernel_size=(1, 1), stride=(1, 1))\n          (bn): BatchNorm2d(256, eps=1e-05, momentum=0.1, affine=True, track_running_stats=True)\n          (relu): ReLU(inplace=True)\n        )\n        (relu): ReLU(inplace=True)\n        (res_conv1): conv_bn_relu(\n          (conv): Conv2d(256, 256, kernel_size=(1, 1), stride=(1, 1))\n          (bn): BatchNorm2d(256, eps=1e-05, momentum=0.1, affine=True, track_running_stats=True)\n          (relu): ReLU(inplace=True)\n        )\n        (res_conv2): conv_bn_relu(\n          (conv): Conv2d(256, 17, kernel_size=(3, 3), stride=(1, 1), padding=(1, 1))\n          (bn): BatchNorm2d(17, eps=1e-05, momentum=0.1, affine=True, track_running_stats=True)\n          (relu): ReLU(inplace=True)\n        )\n      )\n      (up2): Upsample_unit(\n        (u_skip): conv_bn_relu(\n          (conv): Conv2d(256, 256, kernel_size=(1, 1), stride=(1, 1))\n          (bn): BatchNorm2d(256, eps=1e-05, momentum=0.1, affine=True, track_running_stats=True)\n          (relu): ReLU(inplace=True)\n        )\n        (relu): ReLU(inplace=True)\n        (up_conv): conv_bn_relu(\n          (conv): Conv2d(256, 256, kernel_size=(1, 1), stride=(1, 1))\n          (bn): BatchNorm2d(256, eps=1e-05, momentum=0.1, affine=True, track_running_stats=True)\n          (relu): ReLU(inplace=True)\n        )\n        (res_conv1): conv_bn_relu(\n          (conv): Conv2d(256, 256, kernel_size=(1, 1), stride=(1, 1))\n          (bn): BatchNorm2d(256, eps=1e-05, momentum=0.1, affine=True, track_running_stats=True)\n          (relu): ReLU(inplace=True)\n        )\n        (res_conv2): conv_bn_relu(\n          (conv): Conv2d(256, 17, kernel_size=(3, 3), stride=(1, 1), padding=(1, 1))\n          (bn): BatchNorm2d(17, eps=1e-05, momentum=0.1, affine=True, track_running_stats=True)\n          (relu): ReLU(inplace=True)\n        )\n      )\n      (up3): Upsample_unit(\n        (u_skip): conv_bn_relu(\n          (conv): Conv2d(128, 256, kernel_size=(1, 1), stride=(1, 1))\n          (bn): BatchNorm2d(256, eps=1e-05, momentum=0.1, affine=True, track_running_stats=True)\n          (relu): ReLU(inplace=True)\n        )\n        (relu): ReLU(inplace=True)\n        (up_conv): conv_bn_relu(\n          (conv): Conv2d(256, 256, kernel_size=(1, 1), stride=(1, 1))\n          (bn): BatchNorm2d(256, eps=1e-05, momentum=0.1, affine=True, track_running_stats=True)\n          (relu): ReLU(inplace=True)\n        )\n        (res_conv1): conv_bn_relu(\n          (conv): Conv2d(256, 256, kernel_size=(1, 1), stride=(1, 1))\n          (bn): BatchNorm2d(256, eps=1e-05, momentum=0.1, affine=True, track_running_stats=True)\n          (relu): ReLU(inplace=True)\n        )\n        (res_conv2): conv_bn_relu(\n          (conv): Conv2d(256, 17, kernel_size=(3, 3), stride=(1, 1), padding=(1, 1))\n          (bn): BatchNorm2d(17, eps=1e-05, momentum=0.1, affine=True, track_running_stats=True)\n          (relu): ReLU(inplace=True)\n        )\n      )\n      (up4): Upsample_unit(\n        (u_skip): conv_bn_relu(\n          (conv): Conv2d(64, 256, kernel_size=(1, 1), stride=(1, 1))\n          (bn): BatchNorm2d(256, eps=1e-05, momentum=0.1, affine=True, track_running_stats=True)\n          (relu): ReLU(inplace=True)\n        )\n        (relu): ReLU(inplace=True)\n        (up_conv): conv_bn_relu(\n          (conv): Conv2d(256, 256, kernel_size=(1, 1), stride=(1, 1))\n          (bn): BatchNorm2d(256, eps=1e-05, momentum=0.1, affine=True, track_running_stats=True)\n          (relu): ReLU(inplace=True)\n        )\n        (res_conv1): conv_bn_relu(\n          (conv): Conv2d(256, 256, kernel_size=(1, 1), stride=(1, 1))\n          (bn): BatchNorm2d(256, eps=1e-05, momentum=0.1, affine=True, track_running_stats=True)\n          (relu): ReLU(inplace=True)\n        )\n        (res_conv2): conv_bn_relu(\n          (conv): Conv2d(256, 17, kernel_size=(3, 3), stride=(1, 1), padding=(1, 1))\n          (bn): BatchNorm2d(17, eps=1e-05, momentum=0.1, affine=True, track_running_stats=True)\n          (relu): ReLU(inplace=True)\n        )\n      )\n    )\n  )\n)"
     },
     "execution_count": 5,
     "metadata": {},
     "output_type": "execute_result"
    }
   ],
   "source": [
    "model = RSN(cfg)\n",
    "if os.path.exists(model_file):\n",
    "    state_dict = torch.load(\n",
    "            model_file, map_location=lambda storage, loc: storage)\n",
    "    state_dict = state_dict['model']\n",
    "    model.load_state_dict(state_dict)\n",
    "\n",
    "# device = torch.device(\"cuda\", 0)\n",
    "device = torch.device(\"cpu\")\n",
    "model.to(device)\n",
    "cpu_device =  torch.device(\"cpu\")\n",
    "\n",
    "model.eval()"
   ],
   "metadata": {
    "collapsed": false
   }
  },
  {
   "cell_type": "code",
   "execution_count": 11,
   "outputs": [
    {
     "name": "stderr",
     "output_type": "stream",
     "text": [
      "/var/folders/v8/8ft8lzy567v7jwk44gz1fhk40000gp/T/ipykernel_4549/4023364619.py:1: TqdmDeprecationWarning: This function will be removed in tqdm==5.0.0\n",
      "Please use `tqdm.notebook.tqdm` instead of `tqdm.tqdm_notebook`\n",
      "  for (iteration, image_path) in tqdm_notebook(enumerate(data_txt)):\n"
     ]
    },
    {
     "data": {
      "text/plain": "0it [00:00, ?it/s]",
      "application/vnd.jupyter.widget-view+json": {
       "version_major": 2,
       "version_minor": 0,
       "model_id": "218a353f9ee841888d1684220c7b9466"
      }
     },
     "metadata": {},
     "output_type": "display_data"
    }
   ],
   "source": [
    "for (iteration, image_path) in tqdm_notebook(enumerate(data_txt)):\n",
    "\n",
    "    image = cv2.imread(image_path, cv2.IMREAD_COLOR)\n",
    "    ori_image = image.copy()\n",
    "\n",
    "    height = image.shape[0]\n",
    "    width = image.shape[1]\n",
    "\n",
    "    if color_rgb:\n",
    "        image = cv2.cvtColor(image, cv2.COLOR_BGR2RGB)\n",
    "    image = cv2.resize(image,(cfg.INPUT_SHAPE[1], cfg.INPUT_SHAPE[0]))\n",
    "    image = transform(image)\n",
    "    image = image.unsqueeze(0)\n",
    "    image = image.to(device)\n",
    "    with torch.no_grad():\n",
    "        output = model(image)\n",
    "        output = output.to(cpu_device).numpy()\n",
    "\n",
    "        if cfg.TEST.FLIP:\n",
    "            images_flipped = np.flip(image.to(cpu_device).numpy(), 3).copy()\n",
    "            images_flipped = torch.from_numpy(images_flipped).to(device)\n",
    "            output_flipped = model(images_flipped)\n",
    "            output_flipped = output_flipped.to(cpu_device).numpy()\n",
    "            output_flipped = flip_back(output_flipped, cfg.DATASET.KEYPOINT.FLIP_PAIRS)\n",
    "\n",
    "    output = (output + output_flipped) * 0.5\n",
    "\n",
    "    pred = np.zeros((cfg.DATASET.KEYPOINT.NUM, 2))\n",
    "    score = np.zeros((cfg.DATASET.KEYPOINT.NUM, 1))\n",
    "\n",
    "    score_map = output[0].copy()\n",
    "    score_map = score_map / 255 + 0.5\n",
    "\n",
    "    dr = np.zeros((cfg.DATASET.KEYPOINT.NUM,\n",
    "                       cfg.OUTPUT_SHAPE[0] + 2 * border, cfg.OUTPUT_SHAPE[1] + 2 * border))\n",
    "    dr[:, border: -border, border: -border] = output[0].copy()\n",
    "    for w in range(cfg.DATASET.KEYPOINT.NUM):\n",
    "        dr[w] = cv2.GaussianBlur(dr[w], (kernel, kernel), 0)\n",
    "        # a = np.mat(dr[w])\n",
    "        # cv2.imshow('a',a)\n",
    "        # cv2.waitKey(0)\n",
    "    for w in range(cfg.DATASET.KEYPOINT.NUM):\n",
    "        for j in range(len(shifts)):\n",
    "            if j == 0:\n",
    "                lb = dr[w].argmax()\n",
    "                y, x = np.unravel_index(lb, dr[w].shape)\n",
    "                dr[w, y, x] = 0\n",
    "                x -= border\n",
    "                y -= border\n",
    "            lb = dr[w].argmax()\n",
    "            py, px = np.unravel_index(lb, dr[w].shape)\n",
    "            dr[w, py, px] = 0\n",
    "            px -= border + x\n",
    "            py -= border + y\n",
    "            ln = (px ** 2 + py ** 2) ** 0.5\n",
    "            if ln > 1e-3:\n",
    "                x += shifts[j] * px / ln\n",
    "                y += shifts[j] * py / ln\n",
    "        x = max(0, min(x, cfg.OUTPUT_SHAPE[1] - 1))\n",
    "        y = max(0, min(y, cfg.OUTPUT_SHAPE[0] - 1))\n",
    "\n",
    "        pred[w] = np.array([x * 4 + 2, y * 4 + 2])\n",
    "        score[w, 0] = score_map[w, int(round(y) + 1e-9), \\\n",
    "                                int(round(x) + 1e-9)]\n",
    "\n",
    "    # aligned or not ...pred[:, 1] * h / cfg.INPUT_SHAPE[0]\n",
    "    pred[:, 0] = pred[:, 0] * width / cfg.INPUT_SHAPE[1]\n",
    "    pred[:, 1] = pred[:, 1] * height / cfg.INPUT_SHAPE[0]\n",
    "\n",
    "    pred = pred.astype(int)\n",
    "\n",
    "    joints = pred.copy()\n",
    "    show_img = mpimg.imread(image_path)\n",
    "    plt.imshow(show_img)\n",
    "    plt.scatter(joints[:,0], joints[:,1], marker=\"o\", color=\"red\", s=10)\n",
    "    plt.savefig(\"results/{}\".format(image_path))\n",
    "    plt.close()"
   ],
   "metadata": {
    "collapsed": false
   }
  },
  {
   "cell_type": "markdown",
   "source": [
    "Demo on one image"
   ],
   "metadata": {
    "collapsed": false
   }
  },
  {
   "cell_type": "code",
   "execution_count": 116,
   "outputs": [],
   "source": [
    "def fill_dataset_file(images_dir):\n",
    "    test_images = natsorted(os.listdir(images_dir))\n",
    "\n",
    "    with open(\"test_images.txt\", \"w\") as data:\n",
    "        for name in test_images:\n",
    "            data.write(\"{}/{}\\n\".format(images_dir, name))\n",
    "        data.flush()"
   ],
   "metadata": {
    "collapsed": false
   }
  },
  {
   "cell_type": "code",
   "execution_count": 117,
   "outputs": [],
   "source": [
    "fill_dataset_file(\"images\")"
   ],
   "metadata": {
    "collapsed": false
   }
  },
  {
   "cell_type": "code",
   "execution_count": 12,
   "outputs": [],
   "source": [
    "def make_video(images_dir, result_path):\n",
    "    file_names = natsorted(os.listdir(images_dir))\n",
    "    img_array = []\n",
    "    for filename in file_names:\n",
    "        img = cv2.imread(images_dir + \"/\" + filename)\n",
    "        height, width, layers = img.shape\n",
    "        size = (width,height)\n",
    "        img_array.append(img)\n",
    "\n",
    "\n",
    "    out = cv2.VideoWriter(result_path, cv2.VideoWriter_fourcc(*'DIVX'), 15, size)\n",
    "\n",
    "    for i in range(len(img_array)):\n",
    "        out.write(img_array[i])\n",
    "    out.release()"
   ],
   "metadata": {
    "collapsed": false
   }
  },
  {
   "cell_type": "code",
   "execution_count": 13,
   "outputs": [
    {
     "name": "stderr",
     "output_type": "stream",
     "text": [
      "OpenCV: FFMPEG: tag 0x58564944/'DIVX' is not supported with codec id 12 and format 'mp4 / MP4 (MPEG-4 Part 14)'\n",
      "OpenCV: FFMPEG: fallback to use tag 0x7634706d/'mp4v'\n"
     ]
    }
   ],
   "source": [
    "make_video(\"results/images\", \"results/result.mp4\")"
   ],
   "metadata": {
    "collapsed": false
   }
  },
  {
   "cell_type": "code",
   "execution_count": null,
   "outputs": [],
   "source": [],
   "metadata": {
    "collapsed": false
   }
  }
 ],
 "metadata": {
  "kernelspec": {
   "display_name": "Python 3",
   "language": "python",
   "name": "python3"
  },
  "language_info": {
   "codemirror_mode": {
    "name": "ipython",
    "version": 2
   },
   "file_extension": ".py",
   "mimetype": "text/x-python",
   "name": "python",
   "nbconvert_exporter": "python",
   "pygments_lexer": "ipython2",
   "version": "2.7.6"
  }
 },
 "nbformat": 4,
 "nbformat_minor": 0
}
